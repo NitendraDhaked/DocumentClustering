{
 "cells": [
  {
   "cell_type": "markdown",
   "metadata": {
    "collapsed": false
   },
   "source": [
    "# Author: Nitendra Singh Dhaked "
   ]
  },
  {
   "cell_type": "markdown",
   "metadata": {
    "collapsed": true
   },
   "source": [
    "# Part1: Text Data Scraping"
   ]
  },
  {
   "cell_type": "code",
   "execution_count": 6,
   "metadata": {
    "collapsed": true
   },
   "outputs": [],
   "source": [
    "import urllib.request\n",
    "import bs4\n",
    "import requests"
   ]
  },
  {
   "cell_type": "code",
   "execution_count": 7,
   "metadata": {
    "collapsed": true
   },
   "outputs": [],
   "source": [
    "#This Method returns requested url page in decoded format\n",
    "def _fetchData(url):\n",
    "    resp = urllib.request.urlopen(url) #Opens the connection for provided url and returns the byte object\n",
    "    page = resp.read().decode(\"utf-8\") #decode the byte object in utf format or we can also pass the decoding format ex. \"utf-8\"\n",
    "    return page"
   ]
  },
  {
   "cell_type": "code",
   "execution_count": 8,
   "metadata": {
    "collapsed": true
   },
   "outputs": [],
   "source": [
    "#This method returns all link of provided page\n",
    "def _page_link_Scraper(html):\n",
    "    bs_parser = bs4.BeautifulSoup(html,\"html.parser\") #Parse the html Page and generate the structure for all tags present in page\n",
    "    page_links=set()\n",
    "    for link in bs_parser.findAll('a'):  #get all anchor tag from page\n",
    "        link=link.get('href') #get link from anchor tag\n",
    "        if(link!=\"\"):  #if url is balank do not add in list\n",
    "            page_links.add(base_URL+link) #All url is added to link\n",
    "    return page_links"
   ]
  },
  {
   "cell_type": "code",
   "execution_count": 9,
   "metadata": {
    "collapsed": true
   },
   "outputs": [],
   "source": [
    "#generate all the link of base url\n",
    "def _gen_link(base_url):\n",
    "    decoded_html=_fetchData(base_url)  #call _fetchdata method which returns the decoded page in utf format\n",
    "    links_list=_page_link_Scraper(decoded_html) #Page link scraper method returns the list of all links in single page\n",
    "    return links_list"
   ]
  },
  {
   "cell_type": "code",
   "execution_count": 10,
   "metadata": {
    "collapsed": false
   },
   "outputs": [],
   "source": [
    "def _get_body(url):\n",
    "    html_page=_fetchData(url)\n",
    "    bs_parser = bs4.BeautifulSoup(html_page,\"html.parser\") #Parse the html Page and generate the structure for all tags present in page\n",
    "    for match in bs_parser.find_all(\"div\", { \"class\" : \"main\" }):\n",
    "        text = match.get_text()\n",
    "    return text"
   ]
  },
  {
   "cell_type": "code",
   "execution_count": 11,
   "metadata": {
    "collapsed": false
   },
   "outputs": [],
   "source": [
    "#Base URL or page\n",
    "base_URL=\"http://mlg.ucd.ie/modules/COMP41680/news/\"\n",
    "\n",
    "page_set=_gen_link(base_URL) #This method returns all unique Link which is present in base url\n",
    "\n",
    "cweb_set=set() #set data structure is created to store unique element\n",
    "\n",
    "#All index link is traversed and all unique link is  updated to cweb_set data sructure\n",
    "for link in page_set:\n",
    "    cweb_set.update(_gen_link(link)) #Add all articles link for single month\n",
    "page_set=page_set.union(cweb_set) #complete links of website\n",
    "\n",
    "#iterate all the links which contains article\n",
    "for link in cweb_set:\n",
    "    _file = open(link.split(\"/\")[-1][:-5],'w') #link is splitted and only article name is take as \n",
    "    _file.write(_get_body(link))\n",
    "    _file.close()"
   ]
  },
  {
   "cell_type": "markdown",
   "metadata": {},
   "source": [
    "# Part2 Corpus Exploration "
   ]
  },
  {
   "cell_type": "markdown",
   "metadata": {
    "collapsed": true
   },
   "source": [
    "1. Load the text corpus generated in Part 1. Apply any appropriate pre-processing\n",
    "steps and construct a document-term matrix representation of the corpus."
   ]
  },
  {
   "cell_type": "code",
   "execution_count": 12,
   "metadata": {
    "collapsed": false
   },
   "outputs": [
    {
     "name": "stdout",
     "output_type": "stream",
     "text": [
      "Number of text documents 1131\n"
     ]
    }
   ],
   "source": [
    "import glob #find the all path names with matching a specified pattern\n",
    "all_documents=[] #List is created to store all documents\n",
    "document_name=[]\n",
    "for filename in glob.glob('*'): #include all the files from current directory\n",
    "    if(filename.startswith(\"article\")): #select 1131 documents starts with prefix article \n",
    "        fin = open(filename,\"r\")  #open the file for reading\n",
    "        document_name.append(filename) #document name for future reference\n",
    "        all_documents.append(fin.read()) #read full content of file and added to the client\n",
    "        fin.close() #close the file\n",
    "print(\"Number of text documents %d\" % len(all_documents)) #Total number of documents"
   ]
  },
  {
   "cell_type": "code",
   "execution_count": 13,
   "metadata": {
    "collapsed": false
   },
   "outputs": [],
   "source": [
    "import nltk\n",
    "import re\n",
    "from sklearn.feature_extraction.text import CountVectorizer\n",
    "# define the function for lemmatization\n",
    "def lemma_tokenizer(text):\n",
    "    # use the standard scikit-learn tokenizer first\n",
    "    standard_tokenizer = CountVectorizer().build_tokenizer()\n",
    "    tokens = standard_tokenizer(text)\n",
    "    # then use NLTK to perform lemmatisation on each token\n",
    "    lemmatizer = nltk.stem.WordNetLemmatizer()\n",
    "    lemma_tokens=[]\n",
    "    for token in tokens:\n",
    "        if re.search('[a-zA-Z]', token):  # save those which are non-numeric\n",
    "            lemma_tokens.append(lemmatizer.lemmatize(token))\n",
    "    return lemma_tokens"
   ]
  },
  {
   "cell_type": "code",
   "execution_count": 14,
   "metadata": {
    "collapsed": false,
    "scrolled": false
   },
   "outputs": [],
   "source": [
    "from sklearn.feature_extraction.text import TfidfVectorizer\n",
    "# we can pass in the same preprocessing parameters\n",
    "tf_idfVector = TfidfVectorizer(stop_words=\"english\",min_df = 5,ngram_range=(1,3),tokenizer=lemma_tokenizer)#chosen n-gram of three words. It will produce phrases containing upto three words\n",
    "tf_idfMatrix= tf_idfVector.fit_transform(all_documents)"
   ]
  },
  {
   "cell_type": "markdown",
   "metadata": {},
   "source": [
    "  2 Summarise the overall corpus by identifying the most characteristic terms and phrases in the corpus."
   ]
  },
  {
   "cell_type": "code",
   "execution_count": null,
   "metadata": {
    "collapsed": false
   },
   "outputs": [
    {
     "name": "stdout",
     "output_type": "stream",
     "text": [
      "['euro' 'ecb' 'european' 'draghi' 'policy' 'crisis' 'rate' 'save'\n",
      " 'monetary' 'periphery' 'imperative' 'bond' 'connolly'\n",
      " 'ecb president mario' 'government debt' 'euro zone' 'quite' 'politics'\n",
      " 'economy' 'zone' 'cost' 'bond market' 'prescription' 'pledged'\n",
      " 'president mario draghi' 'president mario' 'ecb president'\n",
      " 'competitiveness' 'mario draghi' 'bear' 'understood' 'market' 'really'\n",
      " 'currency' 'mario' 'brussels' 'totally' 'human' 'inflation' 'given'\n",
      " 'cutting' 'buying' 'economic' 'outcome' 'political' 'labour' 'banking'\n",
      " 'country' 'unemployment' 'single' 'debt' 'strong' 'fact' 'little' 'got'\n",
      " 'president' 'fund' 'referendum' 'cost ha' 'day say' 'home need' 'ha year'\n",
      " 'correctly' 'imminent' 'ecb target' 'european banking' 'alive' 'low' 'ha'\n",
      " 'job' 'tone' 'tightening' 'repeat' 'predecessor' 'mere' 'year uk'\n",
      " 'famously' 'banking wa' 'important' 'rate low' 'uk economy' 'year people'\n",
      " 'surprisingly' 'desperately' 'europe' 'uk' 'convince' 'complain' 'deeper'\n",
      " 'high unemployment' 'aggregate' 'flaw' 'awful' 'people like'\n",
      " 'euro zone economy' 'zone economy' 'rate cut' 'commentary' 'dark' 'latest'\n",
      " 'economy wa' 'remarkable' 'year' 'hardly' 'anglo' 'irish bond' 'bernard'\n",
      " 'print' 'feel like' 'anniversary' 'ha received' 'hasn' 'based' 'equally'\n",
      " 'damaging' 'hint' 'ha just' 'monetary affair' 'term' 'form latest economy'\n",
      " 'fired' 'filling form latest' 'combat' 'believe' 'argue' 'form latest'\n",
      " 'unsustainable' 'hike' 'truly' 'inevitable' 'time' 'perspective'\n",
      " 'time year' 'slowly' 'respond' 'underlying' 'pain' 'rapidly'\n",
      " 'consideration' 'high' 'work' 'master' 'tested' 'frankfurt' 'politician'\n",
      " 'promise' 'understanding' 'danger' 'need' 'economy comment closed'\n",
      " 'impossible' 'keeping' 'thanks' 'latest economy comment' 'economy comment'\n",
      " 'answer' 'government' 'economics' 'closer' 'war' 'speculation' 'like'\n",
      " 'worse' 'mechanism' 'hear' 'comment' 'intended' 'division' 'obvious'\n",
      " 'wage' 'high level' 'greece' 'writing' 'italy' 'relatively' 'victory'\n",
      " 'criticism' 'just' 'failing' 'written' 'way' 'commitment' 'battle' 'book'\n",
      " 'implemented' 'expectation' 'mind' 'allowed' 'region' 'word' 'quickly'\n",
      " 'recession' 'affair' 'european commission' 'series' 'road'\n",
      " 'latest economy' 'heart' 'fully' 'actually' 'rising' 'happen' 'break'\n",
      " 'began' 'spain' 'warning' 'raised' 'track' 'described' 'situation'\n",
      " 'people' 'feel' 'charge' 'recovery' 'stay' 'commission' 'project'\n",
      " 'germany' 'condition' 'running' 'positive' 'analyst' 'received' 'impact'\n",
      " 'effect' 'december' 'remains' 'target' 'great' 'ago' 'talk' 'eu'\n",
      " 'official' 'close' 'looking' 'rise' 'member' 'working' 'key' 'seen' 'run'\n",
      " 'link offending' 'report content good' 'believe violates'\n",
      " 'content good faith' 'ask report content' 'ask report'\n",
      " 'faith believe violates' 'faith believe' 'flag link offending' 'flag link'\n",
      " 'rule clicking' 'rule clicking flag' 'content good'\n",
      " 'violates rule clicking' 'filling form' 'clicking flag'\n",
      " 'good faith believe' 'violates rule' 'link offending comment'\n",
      " 'comment filling form' 'comment filling' 'violates' 'clicking flag link'\n",
      " 'believe violates rule' 'offending comment' 'offending comment filling'\n",
      " 'flag' 'good faith' 'report content' 'offending' 'real' 'money' 'cut'\n",
      " 'look' 'filling' 'faith' 'clicking' 'recent' 'mean' 'called' 'ask' 'link'\n",
      " 'including' 'second' 'home' 'rule' 'content' 'level' 'form' 'irish' 'wa'\n",
      " 'day' 'come' 'cent' 'report' 'good' 'say' 'comment closed'\n",
      " 'closed article' 'comment closed article' 'article' 'closed'\n",
      " 'finance minister' 'finance michael noonan' 'finance minister meeting'\n",
      " 'zone unsustainable said' 'finance minister wolfgang' 'finding' 'fine'\n",
      " 'fine gael' 'fined' 'finely' 'finger' 'finish' 'finished' 'finishing'\n",
      " 'finland' 'finnan' 'finnish' 'firewall' 'firm' 'firm ha' 'firm said'\n",
      " 'firm say' 'firm secure' 'finding suggest' 'financing viable bank'\n",
      " 'finance ministry' 'financing viable' 'finance order' 'finance order exit'\n",
      " 'finance said' 'financial' 'financial crisis' 'financial institution'\n",
      " 'financial management' 'financial management key' 'financial market'\n",
      " 'financial sector' 'financial service' 'financial stability'\n",
      " 'financial support' 'financial time' 'financial transaction' 'financially'\n",
      " 'financing' 'finance michael' 'fight' 'finance dan doctoroff' 'fed ha'\n",
      " 'father' 'fault' 'favour' 'favourable' 'favourite' 'faye' 'fear' 'feared'\n",
      " 'feature' 'featured' 'february' 'february year' 'fed' 'federal'\n",
      " 'finance dan' 'federal government' 'federal reserve'\n",
      " 'federal reserve chairman' 'federation' 'fee' 'fee private'\n",
      " 'fee private patient' 'feed' 'feedback' 'feeling' 'fell' 'fell cent'\n",
      " 'fell cent annually' 'fatal' 'fat' 'fastest growing' 'fastest' 'fall year'\n",
      " 'fallen' 'fallen cent' 'falling' 'falling cent' 'falling price' 'fallout'\n",
      " 'false' 'familiar' 'family' 'family child' 'family year' 'famous' 'fan'\n",
      " 'fantastic' 'far' 'far concerned' 'far le' 'far post' 'far year' 'fared'\n",
      " 'farmer' 'fashion' 'fashioned' 'fast' 'fast net' 'faster'\n",
      " 'fell cent month' 'fell cent year' 'fell million' 'figure showed'\n",
      " 'figure wa' 'file' 'file obtained' 'file obtained online'\n",
      " 'file photograph' 'file said' 'file shared' 'file sharing' 'file state'\n",
      " 'filed' 'filled' 'filling form comment' 'filling form return' 'film'\n",
      " 'film industry' 'film studio' 'film tv' 'filmed' 'filter' 'final'\n",
      " 'final decision' 'final minute' 'final whistle' 'finally' 'finally laid'\n",
      " 'finally laid rest' 'finance' 'figure suggest' 'figure released'\n",
      " 'fell year' 'figure published' 'fellow' 'felt' 'female' 'ferdinand'\n",
      " 'ferguson' 'ferguson said' 'ferguson wa' 'fernando' 'fernando morientes'\n",
      " 'ferreira' 'festival' 'fewer' 'fi' 'fianna' 'fianna fáil' 'field'\n",
      " 'fielding' 'fierce' 'fierce competition' 'fifa' 'fifth' 'fifth round'\n",
      " 'fighting' 'figure' 'figure central' 'figure central statistic'\n",
      " 'figure gathered' 'firm sophos' 'football club' 'firm want' 'gaining'\n",
      " 'game available' 'game arsenal' 'game' 'gambling' 'galway october'\n",
      " 'galway' 'gallas' 'gained' 'game win' 'gain tax' 'gain' 'gael'\n",
      " 'gadget market' 'gadget lover' 'gadget' 'gabriel' 'game charge'\n",
      " 'game come' 'game comment' 'game console' 'game ve' 'game season'\n",
      " 'game said' 'game return result']\n"
     ]
    }
   ],
   "source": [
    "import numpy as np\n",
    "features = tf_idfVector.get_feature_names()\n",
    "vocab = tf_idfVector.vocabulary_\n",
    "#get features array from tf_idf features list\n",
    "feature_array = np.array(features)\n",
    "#sorted index for tf_Idf matrix\n",
    "sorted_Index = np.argsort(tf_idfMatrix.toarray()).flatten()[::-1]\n",
    "#select top 500 features using sorted index\n",
    "top_features = feature_array[sorted_Index][:500]\n",
    "print(top_features)"
   ]
  },
  {
   "cell_type": "markdown",
   "metadata": {},
   "source": [
    "football, game, finance,money,firewall,film studio words indicating towards sports, economy, technology etc."
   ]
  },
  {
   "cell_type": "markdown",
   "metadata": {},
   "source": [
    "# Elbow method to find the best k for K-Means"
   ]
  },
  {
   "cell_type": "code",
   "execution_count": 18,
   "metadata": {
    "collapsed": false
   },
   "outputs": [],
   "source": [
    "#reduce the within cluster sum square for finding best k\n",
    "from sklearn.cluster import KMeans \n",
    "import matplotlib.pyplot as plt\n",
    "#The best cluster in range of 2 to 6\n",
    "cluster_range = range(2,6) \n",
    "#model fit using TF-IDf\n",
    "km_modelfit= [KMeans(n_clusters=k).fit(tf_idfMatrix) for k in cluster_range]\n",
    "#Centroids for K means algorithm\n",
    "centroids = [k.cluster_centers_ for k in km_modelfit] "
   ]
  },
  {
   "cell_type": "code",
   "execution_count": 34,
   "metadata": {
    "collapsed": false
   },
   "outputs": [
    {
     "data": {
      "text/plain": [
       "<matplotlib.text.Text at 0x7f4cfa1f6748>"
      ]
     },
     "execution_count": 34,
     "metadata": {},
     "output_type": "execute_result"
    },
    {
     "data": {
      "image/png": "[encoded data removed]",
      "text/plain": [
       "<matplotlib.figure.Figure at 0x7f4cfb1bd550>"
      ]
     },
     "metadata": {},
     "output_type": "display_data"
    }
   ],
   "source": [
    "import matplotlib.pyplot as plt\n",
    "from scipy.spatial.distance import cdist\n",
    "%matplotlib inline\n",
    "\n",
    " #cluster distance using euclidian distance\n",
    "Distance_cluster = [cdist(tf_idfMatrix.toarray(), cent,'euclidean') for cent in centroids] \n",
    "euclidian_ditance = [np.min(DC,axis=1) for DC in Distance_cluster] \n",
    "#eculidian distance formula\n",
    "avgSWithInCluster = [sum(distance)/tf_idfMatrix.shape[0] for distance in euclidian_ditance]\n",
    "k = 2\n",
    "\n",
    "#plot elbow for k-Means\n",
    "fig = plt.figure()\n",
    "axis = fig.add_subplot(111)\n",
    "axis.plot(cluster_range, avgSWithInCluster, 'y*-')\n",
    "axis.plot(cluster_range[kIdx], avgSWithInCluster[k], marker='o', markersize=12, \n",
    "    markeredgewidth=2, markeredgecolor='g', markerfacecolor='None')\n",
    "plt.grid(True)\n",
    "plt.xlabel('Total Number Of Cluster')\n",
    "plt.ylabel('Avg sum of squares within the cluster')\n",
    "plt.title('Elbow for KMeans clustering')"
   ]
  },
  {
   "cell_type": "markdown",
   "metadata": {},
   "source": [
    "Best k for K-Means is 4 according to elbow method"
   ]
  },
  {
   "cell_type": "markdown",
   "metadata": {},
   "source": [
    "3 Apply two alternative clustering algorithms of your choice to the document-term\n",
    "matrix to produce clusters of related documents. This might require applying\n",
    "each algorithm several times with different parameter values. "
   ]
  },
  {
   "cell_type": "code",
   "execution_count": 69,
   "metadata": {
    "collapsed": true
   },
   "outputs": [],
   "source": [
    "vocab_lemma = []  #holds lemmetized tokens for all docs\n",
    "for i in all_documents:\n",
    "    lemma_tokens = lemma_tokenizer(i)   \n",
    "    vocab_lemma.extend(lemma_tokens) #Make single list from all documents \n",
    "#dataframe of lemmetized tokens. This will get to find most frequent words in a cluster\n",
    "lemma_vocab = pd.DataFrame({'words': vocab_lemma}, index = vocab_lemma)"
   ]
  },
  {
   "cell_type": "markdown",
   "metadata": {},
   "source": [
    "# K-Means clustering"
   ]
  },
  {
   "cell_type": "code",
   "execution_count": 70,
   "metadata": {
    "collapsed": false,
    "scrolled": true
   },
   "outputs": [
    {
     "name": "stdout",
     "output_type": "stream",
     "text": [
      "Cluster Total Documents\n"
     ]
    },
    {
     "data": {
      "text/plain": [
       "1    328\n",
       "3    307\n",
       "0    264\n",
       "2    232\n",
       "Name: group, dtype: int64"
      ]
     },
     "execution_count": 70,
     "metadata": {},
     "output_type": "execute_result"
    }
   ],
   "source": [
    "import pandas as pd\n",
    "from sklearn.cluster import KMeans\n",
    "#generate model for k-means\n",
    "model = KMeans(4)  \n",
    "#fit model for tf-Idf Matrix\n",
    "model.fit(tf_idfMatrix)\n",
    "#generate clusters labels\n",
    "clusters = model.labels_.tolist()\n",
    "#articles grouping\n",
    "article = {'art': all_documents,'group': clusters}\n",
    " #Will be used for cross examination of clusters\n",
    "cross_tab_frame = pd.DataFrame(article, index = [clusters] , columns = ['group']) \n",
    "#all 1131 documents grouped to cluster\n",
    "print(\"Cluster Total Documents\")\n",
    "cross_tab_frame['group'].value_counts()"
   ]
  },
  {
   "cell_type": "code",
   "execution_count": 72,
   "metadata": {
    "collapsed": false
   },
   "outputs": [
    {
     "name": "stdout",
     "output_type": "stream",
     "text": [
      "Top words in cluster\n",
      "\n",
      "Cluster 0 : club, game, nan, player, wa, goal, arsenal, united, league, cup,\n",
      "Cluster 1 : cent, nan, tax, bank, irish, said, year, economy, rate, government,\n",
      "Cluster 2 : hospital, health, nan, child, patient, said, wa, medical, doctor, nan,\n",
      "Cluster 3 : mobile, phone, said, people, technology, game, user, computer, music, ha,\n"
     ]
    }
   ],
   "source": [
    "print(\"Top words in cluster\")\n",
    "print()\n",
    "#sort arguments \n",
    "cl_centroid= model.cluster_centers_.argsort()[:, ::-1] \n",
    "#Find Top words in all 4 cluster\n",
    "for i in range(4): #runs for all 4 cluster\n",
    "    print(\"Cluster %d :\"%i, end='')\n",
    "    for index in cl_centroid[i, :10]: #top 20 index\n",
    "        #select the term from lematized vocab\n",
    "        term=lemma_vocab.ix[features[index].split(' ')].values.tolist()[0][0]\n",
    "        print(' %s' % term, end=',')\n",
    "    print()"
   ]
  },
  {
   "cell_type": "markdown",
   "metadata": {},
   "source": [
    "clustering seprates documents into four different clusters and each of them represents four different areas-sports,economy,health,technology"
   ]
  },
  {
   "cell_type": "markdown",
   "metadata": {},
   "source": [
    "# Hierarchical Clustering"
   ]
  },
  {
   "cell_type": "markdown",
   "metadata": {},
   "source": [
    "Hierarchical Clustering is method of cluster analysis which groups data over a variety of scales by creating a cluster tree or dendrogram. The tree is not a single set of clusters, but rather a multilevel of clusters.\n",
    "\n",
    "Ward Method: This method does not directly define a measure of distance between two points or clusters. It is an ANOVA based approach. At each stage, those two clusters marge, which provides the smallest increase in the combined error sum of squares from one-way univariate ANOVAs that can be done for each variable with groups defined by the clusters at that stage of the process"
   ]
  },
  {
   "cell_type": "markdown",
   "metadata": {},
   "source": [
    "calulate distance from tfIDf Matrix"
   ]
  },
  {
   "cell_type": "code",
   "execution_count": 96,
   "metadata": {
    "collapsed": true
   },
   "outputs": [],
   "source": [
    "from sklearn.metrics.pairwise import cosine_similarity\n",
    "distance =1-cosine_similarity(tf_idfMatrix) #distance calculation using cosine similarity"
   ]
  },
  {
   "cell_type": "code",
   "execution_count": 98,
   "metadata": {
    "collapsed": false
   },
   "outputs": [
    {
     "data": {
      "image/png": "[encoded data removed]",
      "text/plain": [
       "<matplotlib.figure.Figure at 0x7f4c7c0f55c0>"
      ]
     },
     "metadata": {},
     "output_type": "display_data"
    }
   ],
   "source": [
    "from scipy.cluster.hierarchy import ward,dendrogram\n",
    "#create linkage matrix using ward method\n",
    "linkage_matrix = ward(distance)   \n",
    "#plot the dendogram\n",
    "fig, axis = plt.subplots(figsize=(10, 20))\n",
    "ax = dendrogram(linkage_matrix, orientation=\"right\")"
   ]
  },
  {
   "cell_type": "markdown",
   "metadata": {},
   "source": [
    "Dendogram clearly shows 4 cluster "
   ]
  },
  {
   "cell_type": "code",
   "execution_count": 112,
   "metadata": {
    "collapsed": false
   },
   "outputs": [],
   "source": [
    "import numpy as np\n",
    "from scipy.cluster.hierarchy import fcluster\n",
    "# tree cut \n",
    "hieCluster = fcluster(linkage_matrix,4,'maxclust')\n"
   ]
  },
  {
   "cell_type": "code",
   "execution_count": 121,
   "metadata": {
    "collapsed": false
   },
   "outputs": [
    {
     "name": "stdout",
     "output_type": "stream",
     "text": [
      "Cluster Number of Documents\n"
     ]
    },
    {
     "data": {
      "text/plain": [
       "2    305\n",
       "1    286\n",
       "4    274\n",
       "3    266\n",
       "Name: cluster, dtype: int64"
      ]
     },
     "execution_count": 121,
     "metadata": {},
     "output_type": "execute_result"
    }
   ],
   "source": [
    "articles = {'article': all_documents,'cluster': hieCluster}#dictionaries for cluster\n",
    "article_frame = pd.DataFrame(articles, index = [hieCluster] , columns = ['cluster']) #create frame with group columns\n",
    "print(\"Cluster Number of Documents\")\n",
    "article_frame['cluster'].value_counts()"
   ]
  },
  {
   "cell_type": "markdown",
   "metadata": {},
   "source": [
    "# Top 10 frequent words per cluster in Hierarchical Clustering"
   ]
  },
  {
   "cell_type": "code",
   "execution_count": 120,
   "metadata": {
    "collapsed": false
   },
   "outputs": [
    {
     "name": "stdout",
     "output_type": "stream",
     "text": [
      "Top 10 words in each cluster:\n",
      "Cluster 0 : cent, tax, nan, bank, economy, said, irish, rate, year, government,\n",
      "Cluster 1 : hospital, health, nan, child, said, patient, wa, medical, doctor, year,\n",
      "Cluster 2 : game, club, nan, player, wa, goal, arsenal, united, league, ha,\n",
      "Cluster 3 : mobile, phone, people, said, technology, game, user, music, digital, net,\n"
     ]
    }
   ],
   "source": [
    "import pandas as pd\n",
    "tfIdf_arrayFrame = pd.DataFrame(tf_idfMatrix.toarray()) #create array data frame from TF_IDF Matrix \n",
    "tfIdf_arrayFrame['cluster'] = hieCluster #cluster labels\n",
    "freq_cluster = X.groupby('cluster').sum() #find the total sum in each cluster\n",
    "cluster_frame=pd.DataFrame({n: freq_cluster.T[col].nlargest(10).index.tolist() \n",
    "                  for n, col in enumerate(freq_cluster.T)}).T    \n",
    "print(\"Top 10 words in each cluster:\")\n",
    "for i in range(4):\n",
    "    print(\"Cluster %d :\"%i, end='')\n",
    "    for ind in df[i::10]: #top 10 words per cluster\n",
    "        term=vocab_frame.ix[features[cluster_frame.ix[i,ind]].split(' ')].values.tolist()[0][0]\n",
    "        print(' %s' % term, end=',')\n",
    "    print()"
   ]
  },
  {
   "cell_type": "markdown",
   "metadata": {},
   "source": [
    "4 For each clustering generated in Step 3, summarise the contents of the clusters.\n",
    "Based on your summary, suggest a topic/theme for each cluster."
   ]
  },
  {
   "cell_type": "markdown",
   "metadata": {},
   "source": [
    "# Topic/Theme"
   ]
  },
  {
   "cell_type": "markdown",
   "metadata": {},
   "source": [
    "K-Means and Hierarchical Clustering both method produced 4 clusters and each cluster denotes particular topic.\n",
    "K-Means cluster Topics:\n",
    "sports,economy,health,technology\n",
    "Hierarchical Clustering Topics:\n",
    "economy,health,sports,digtal technology\n",
    "Both of the method genrating same topic, so we can say all articles from January to decemeber are related to health, sports, economy and technology.\n"
   ]
  },
  {
   "cell_type": "code",
   "execution_count": null,
   "metadata": {
    "collapsed": true
   },
   "outputs": [],
   "source": []
  }
 ],
 "metadata": {
  "kernelspec": {
   "display_name": "Python 3",
   "language": "python",
   "name": "python3"
  },
  "language_info": {
   "codemirror_mode": {
    "name": "ipython",
    "version": 3
   },
   "file_extension": ".py",
   "mimetype": "text/x-python",
   "name": "python",
   "nbconvert_exporter": "python",
   "pygments_lexer": "ipython3",
   "version": "3.6.0"
  }
 },
 "nbformat": 4,
 "nbformat_minor": 2
}
